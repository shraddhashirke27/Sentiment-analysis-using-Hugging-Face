{
 "cells": [
  {
   "attachments": {},
   "cell_type": "markdown",
   "id": "3528c7e7",
   "metadata": {},
   "source": [
    "### 1. Install and Import Dependancies"
   ]
  },
  {
   "cell_type": "code",
   "execution_count": 36,
   "id": "cb4419cc",
   "metadata": {
    "scrolled": true
   },
   "outputs": [
    {
     "name": "stdout",
     "output_type": "stream",
     "text": [
      "Requirement already satisfied: transformers in d:\\sentiment analysis\\sentiment-analysis-using-hugging-face\\venv\\lib\\site-packages (4.29.2)\n",
      "Requirement already satisfied: requests in d:\\sentiment analysis\\sentiment-analysis-using-hugging-face\\venv\\lib\\site-packages (2.28.1)\n",
      "Requirement already satisfied: beautifulsoup4 in d:\\sentiment analysis\\sentiment-analysis-using-hugging-face\\venv\\lib\\site-packages (4.12.2)\n",
      "Requirement already satisfied: pandas in d:\\sentiment analysis\\sentiment-analysis-using-hugging-face\\venv\\lib\\site-packages (1.1.5)\n",
      "Requirement already satisfied: numpy in d:\\sentiment analysis\\sentiment-analysis-using-hugging-face\\venv\\lib\\site-packages (1.21.5)\n",
      "Requirement already satisfied: importlib-metadata in d:\\sentiment analysis\\sentiment-analysis-using-hugging-face\\venv\\lib\\site-packages (from transformers) (6.6.0)\n",
      "Requirement already satisfied: tqdm>=4.27 in d:\\sentiment analysis\\sentiment-analysis-using-hugging-face\\venv\\lib\\site-packages (from transformers) (4.65.0)\n",
      "Requirement already satisfied: regex!=2019.12.17 in d:\\sentiment analysis\\sentiment-analysis-using-hugging-face\\venv\\lib\\site-packages (from transformers) (2023.5.5)\n",
      "Requirement already satisfied: filelock in d:\\sentiment analysis\\sentiment-analysis-using-hugging-face\\venv\\lib\\site-packages (from transformers) (3.12.0)\n",
      "Requirement already satisfied: huggingface-hub<1.0,>=0.14.1 in d:\\sentiment analysis\\sentiment-analysis-using-hugging-face\\venv\\lib\\site-packages (from transformers) (0.14.1)\n",
      "Requirement already satisfied: tokenizers!=0.11.3,<0.14,>=0.11.1 in d:\\sentiment analysis\\sentiment-analysis-using-hugging-face\\venv\\lib\\site-packages (from transformers) (0.13.3)\n",
      "Requirement already satisfied: pyyaml>=5.1 in d:\\sentiment analysis\\sentiment-analysis-using-hugging-face\\venv\\lib\\site-packages (from transformers) (6.0)\n",
      "Requirement already satisfied: packaging>=20.0 in d:\\sentiment analysis\\sentiment-analysis-using-hugging-face\\venv\\lib\\site-packages (from transformers) (22.0)\n",
      "Requirement already satisfied: urllib3<1.27,>=1.21.1 in d:\\sentiment analysis\\sentiment-analysis-using-hugging-face\\venv\\lib\\site-packages (from requests) (1.26.14)\n",
      "Requirement already satisfied: idna<4,>=2.5 in d:\\sentiment analysis\\sentiment-analysis-using-hugging-face\\venv\\lib\\site-packages (from requests) (3.4)\n",
      "Requirement already satisfied: certifi>=2017.4.17 in d:\\sentiment analysis\\sentiment-analysis-using-hugging-face\\venv\\lib\\site-packages (from requests) (2022.12.7)\n",
      "Requirement already satisfied: charset-normalizer<3,>=2 in d:\\sentiment analysis\\sentiment-analysis-using-hugging-face\\venv\\lib\\site-packages (from requests) (2.0.4)\n",
      "Requirement already satisfied: soupsieve>1.2 in d:\\sentiment analysis\\sentiment-analysis-using-hugging-face\\venv\\lib\\site-packages (from beautifulsoup4) (2.4.1)\n",
      "Requirement already satisfied: python-dateutil>=2.7.3 in d:\\sentiment analysis\\sentiment-analysis-using-hugging-face\\venv\\lib\\site-packages (from pandas) (2.8.2)\n",
      "Requirement already satisfied: pytz>=2017.2 in d:\\sentiment analysis\\sentiment-analysis-using-hugging-face\\venv\\lib\\site-packages (from pandas) (2023.3)\n",
      "Requirement already satisfied: fsspec in d:\\sentiment analysis\\sentiment-analysis-using-hugging-face\\venv\\lib\\site-packages (from huggingface-hub<1.0,>=0.14.1->transformers) (2023.1.0)\n",
      "Requirement already satisfied: typing-extensions>=3.7.4.3 in d:\\sentiment analysis\\sentiment-analysis-using-hugging-face\\venv\\lib\\site-packages (from huggingface-hub<1.0,>=0.14.1->transformers) (4.3.0)\n",
      "Requirement already satisfied: six>=1.5 in d:\\sentiment analysis\\sentiment-analysis-using-hugging-face\\venv\\lib\\site-packages (from python-dateutil>=2.7.3->pandas) (1.16.0)\n",
      "Requirement already satisfied: colorama in d:\\sentiment analysis\\sentiment-analysis-using-hugging-face\\venv\\lib\\site-packages (from tqdm>=4.27->transformers) (0.4.6)\n",
      "Requirement already satisfied: zipp>=0.5 in d:\\sentiment analysis\\sentiment-analysis-using-hugging-face\\venv\\lib\\site-packages (from importlib-metadata->transformers) (3.15.0)\n"
     ]
    }
   ],
   "source": [
    "!pip install transformers requests beautifulsoup4 pandas numpy"
   ]
  },
  {
   "cell_type": "code",
   "execution_count": 5,
   "id": "1ffc3ec3",
   "metadata": {},
   "outputs": [
    {
     "name": "stderr",
     "output_type": "stream",
     "text": [
      "d:\\Sentiment analysis\\Sentiment-analysis-using-Hugging-Face\\venv\\lib\\site-packages\\tqdm\\auto.py:21: TqdmWarning: IProgress not found. Please update jupyter and ipywidgets. See https://ipywidgets.readthedocs.io/en/stable/user_install.html\n",
      "  from .autonotebook import tqdm as notebook_tqdm\n"
     ]
    }
   ],
   "source": [
    "import torch\n",
    "import requests\n",
    "from bs4 import BeautifulSoup\n",
    "import re\n",
    "from transformers import AutoTokenizer, AutoModelForSequenceClassification"
   ]
  },
  {
   "attachments": {},
   "cell_type": "markdown",
   "id": "bd2561f1",
   "metadata": {},
   "source": [
    "### 2. Initiate Model"
   ]
  },
  {
   "cell_type": "code",
   "execution_count": 6,
   "id": "8288c33b",
   "metadata": {},
   "outputs": [],
   "source": [
    "tokenizer = AutoTokenizer.from_pretrained('nlptown/bert-base-multilingual-uncased-sentiment')\n",
    "model = AutoModelForSequenceClassification.from_pretrained('nlptown/bert-base-multilingual-uncased-sentiment')"
   ]
  },
  {
   "attachments": {},
   "cell_type": "markdown",
   "id": "2ecbf06c",
   "metadata": {},
   "source": [
    "### 3. Encode and Calculate sentiment"
   ]
  },
  {
   "cell_type": "code",
   "execution_count": 7,
   "id": "cc7b773a",
   "metadata": {},
   "outputs": [],
   "source": [
    "# Example\n",
    "tokens = tokenizer.encode('I hated this, absolutely worst', return_tensors='pt') #pytorch"
   ]
  },
  {
   "cell_type": "code",
   "execution_count": 8,
   "id": "02d59fa2",
   "metadata": {},
   "outputs": [
    {
     "data": {
      "text/plain": [
       "tensor([[  101,   151, 39487, 10163, 10372,   117, 35925, 10563, 43060,   102]])"
      ]
     },
     "execution_count": 8,
     "metadata": {},
     "output_type": "execute_result"
    }
   ],
   "source": [
    "tokens"
   ]
  },
  {
   "cell_type": "code",
   "execution_count": 9,
   "id": "1d73627f",
   "metadata": {},
   "outputs": [
    {
     "data": {
      "text/plain": [
       "tensor([  101,   151, 39487, 10163, 10372,   117, 35925, 10563, 43060,   102])"
      ]
     },
     "execution_count": 9,
     "metadata": {},
     "output_type": "execute_result"
    }
   ],
   "source": [
    "tokens[0]"
   ]
  },
  {
   "cell_type": "code",
   "execution_count": 10,
   "id": "33f45e8f",
   "metadata": {},
   "outputs": [
    {
     "data": {
      "text/plain": [
       "'[CLS] i hated this, absolutely worst [SEP]'"
      ]
     },
     "execution_count": 10,
     "metadata": {},
     "output_type": "execute_result"
    }
   ],
   "source": [
    "tokenizer.decode(tokens[0])"
   ]
  },
  {
   "cell_type": "code",
   "execution_count": 11,
   "id": "2139f922",
   "metadata": {},
   "outputs": [],
   "source": [
    "result = model(tokens)"
   ]
  },
  {
   "cell_type": "code",
   "execution_count": 12,
   "id": "e3fb0a1a",
   "metadata": {},
   "outputs": [
    {
     "data": {
      "text/plain": [
       "SequenceClassifierOutput(loss=None, logits=tensor([[ 4.9280,  1.8564, -0.7541, -2.9172, -2.2860]],\n",
       "       grad_fn=<AddmmBackward0>), hidden_states=None, attentions=None)"
      ]
     },
     "execution_count": 12,
     "metadata": {},
     "output_type": "execute_result"
    }
   ],
   "source": [
    "result \n",
    "# The output from the model is a one-hot encoded list of scores\n",
    "# The position with highest score represents the sentiment rating"
   ]
  },
  {
   "cell_type": "code",
   "execution_count": 13,
   "id": "85424159",
   "metadata": {},
   "outputs": [
    {
     "data": {
      "text/plain": [
       "tensor([[ 4.9280,  1.8564, -0.7541, -2.9172, -2.2860]],\n",
       "       grad_fn=<AddmmBackward0>)"
      ]
     },
     "execution_count": 13,
     "metadata": {},
     "output_type": "execute_result"
    }
   ],
   "source": [
    "result.logits"
   ]
  },
  {
   "cell_type": "code",
   "execution_count": 14,
   "id": "945c6f01",
   "metadata": {},
   "outputs": [
    {
     "data": {
      "text/plain": [
       "tensor(0)"
      ]
     },
     "execution_count": 14,
     "metadata": {},
     "output_type": "execute_result"
    }
   ],
   "source": [
    "torch.argmax(result.logits)"
   ]
  },
  {
   "cell_type": "code",
   "execution_count": 15,
   "id": "979e68c1",
   "metadata": {},
   "outputs": [
    {
     "data": {
      "text/plain": [
       "1"
      ]
     },
     "execution_count": 15,
     "metadata": {},
     "output_type": "execute_result"
    }
   ],
   "source": [
    "int(torch.argmax(result.logits))+1 # '1' indicates negative sentiment"
   ]
  },
  {
   "attachments": {},
   "cell_type": "markdown",
   "id": "dc01f5e5",
   "metadata": {},
   "source": [
    "### Examples"
   ]
  },
  {
   "cell_type": "code",
   "execution_count": 16,
   "id": "53dfa69b",
   "metadata": {},
   "outputs": [
    {
     "data": {
      "text/plain": [
       "5"
      ]
     },
     "execution_count": 16,
     "metadata": {},
     "output_type": "execute_result"
    }
   ],
   "source": [
    "tokens = tokenizer.encode('This is amazing, I loved it. GREAT !', return_tensors='pt') #pytorch\n",
    "result = model(tokens)\n",
    "int(torch.argmax(result.logits))+1"
   ]
  },
  {
   "cell_type": "code",
   "execution_count": 17,
   "id": "22987d08",
   "metadata": {},
   "outputs": [
    {
     "data": {
      "text/plain": [
       "3"
      ]
     },
     "execution_count": 17,
     "metadata": {},
     "output_type": "execute_result"
    }
   ],
   "source": [
    "tokens = tokenizer.encode('Man, it was okayy', return_tensors='pt') #pytorch\n",
    "result = model(tokens)\n",
    "int(torch.argmax(result.logits))+1"
   ]
  },
  {
   "cell_type": "code",
   "execution_count": 18,
   "id": "27bfd291",
   "metadata": {},
   "outputs": [],
   "source": [
    "# Lower the score - worst the sentiment \n",
    "# Higher the score - better the sentiment"
   ]
  },
  {
   "attachments": {},
   "cell_type": "markdown",
   "id": "893c3005",
   "metadata": {},
   "source": [
    "### 4. Collect Reviews"
   ]
  },
  {
   "attachments": {},
   "cell_type": "markdown",
   "id": "8d87bc1e",
   "metadata": {},
   "source": [
    "For collecting the reviews, following steps are defined -\n",
    " \n",
    " 1. Visit desired restaurant's review page (zomato/swiggy/dineout/eazydinner,. etc)\n",
    " 2. Right click on selected review and select 'inspect' from dropdown menu\n",
    " 3. The window will be popped up showing the back end code of web page\n",
    " 4. Apply extraction logic to extract review using regex (re.compile)"
   ]
  },
  {
   "cell_type": "code",
   "execution_count": 19,
   "id": "63d6d6b7",
   "metadata": {},
   "outputs": [],
   "source": [
    "r = requests.get('https://www.dineout.co.in/pune/mainland-china-senapati-bapat-road-west-pune-3777/review?revpage=6')\n",
    "soup = BeautifulSoup(r.text,'html.parser')\n",
    "regex = re.compile('more')\n",
    "results = soup.find_all('span',{'class':regex})\n",
    "reviews = [result.text for result in results]"
   ]
  },
  {
   "cell_type": "code",
   "execution_count": 22,
   "id": "89ea7ffc",
   "metadata": {
    "scrolled": true
   },
   "outputs": [
    {
     "data": {
      "text/plain": [
       "[<span class=\"more\">Set menu option is not now???????</span>,\n",
       " <span class=\"more\">food was very tasty, ambience was excellent. I really enjoyed it</span>,\n",
       " <span class=\"more\">food quality detoriated to a large extent.</span>,\n",
       " <span class=\"more\">As per dineout deal, 15% discount was not given though????????. \n",
       " But as usual enjoyed the meal????</span>,\n",
       " <span class=\"more\">Crab dishes could have been better- few were bitter</span>,\n",
       " <span class=\"more\">Patjatic food options and quality quantity</span>,\n",
       " <span class=\"more\">food was delicious. portions were good too.</span>,\n",
       " <span class=\"more\">The food taste is ok ok.  The wow factor has gone out from the items.</span>,\n",
       " <span class=\"more\">one of the best places in Pune to have a dinner with Family.</span>,\n",
       " <span class=\"more\">the best dishes to try here are Schezwan baby corn, crispy corn chilli pepper, chilli garlic noodles and hot garlic panfried noodles.Also their sizzling brownie is really great .very good service.</span>,\n",
       " <span class=\"more\">my favorite ice-cream wasn't available...rest was good</span>,\n",
       " <span class=\"more\">excellent food and service</span>,\n",
       " <span class=\"more\">excellent food &amp; Service.</span>,\n",
       " <span class=\"more\">great customer service with tasty food. unbeatable!!!</span>,\n",
       " <span class=\"more\">Great value for money with 50% off on food.  Jumbo Prawns could’ve been better, was too hard and chewy in the stir fry preparation. The lobster dish and the dimsum were good.</span>,\n",
       " <span class=\"more\">one of the best always and forever </span>,\n",
       " <span class=\"more\">As always</span>,\n",
       " <span class=\"more\">there was no buffet, terrible service, waste of money and time.</span>,\n",
       " <span class=\"more\">good food n staff</span>,\n",
       " <span class=\"more\">Good</span>,\n",
       " <span class=\"more\">Loved it</span>,\n",
       " <span class=\"more\">food was ok , sufficient, variety also there \n",
       " \n",
       " \n",
       " good food, good service, enough for one person in a fixed menue</span>,\n",
       " <span class=\"more\">good food\n",
       " </span>,\n",
       " <span class=\"more\">I had a great time there... . Service provided by the staff was amazing..  Njoyd alot</span>,\n",
       " <span class=\"more\">veg was good. chicken preparation in main dish was high on specific smell </span>,\n",
       " <span class=\"more\">Food: Awesome. Special mention for the dumplings and crab meat soup. Lunch and dinner buffets are also good. But the problem with dinner buffet is they serve all the starters at once on the table and might get cold by the time you taste them all. Service: No complaints. No delays, no ignorance. They will keep on refilling your tea cup the moment you empty one. Ambience: Comfortable. Well-spaced tables. Well lit area. You can easily spend couple of hours enjoying your dinner. Value for Money: Definitely.</span>,\n",
       " <span class=\"more\">Awesome place for the chineese food...i just want to go again and again..!!!!</span>,\n",
       " <span class=\"more\">Mainland China can never be wrong in serving authentic Chinese cuisine. This famed chain of restaurant is providing my regular dose of Chinese food. Crab Pepper Garlic, Lobster Dumpling and Tsing Hoi Chicken does not have any comparison with anything else. Mainland China has capture the taste of China and has been successfully serving for you.</span>,\n",
       " <span class=\"more\">This is an amazing place to have Some great Chinese food. Crackling Spinach and Corn Chilli Pepper are very tasty. Non-vegetarians can have either Tsing Hoi Chicken or Crab Pepper Garlic. The service is quite good and the ambiance is also nice. Prices are not very high but you will love to have such nice dishes at this place.</span>]"
      ]
     },
     "execution_count": 22,
     "metadata": {},
     "output_type": "execute_result"
    }
   ],
   "source": [
    "results"
   ]
  },
  {
   "cell_type": "code",
   "execution_count": 23,
   "id": "6cc168c2",
   "metadata": {
    "scrolled": true
   },
   "outputs": [
    {
     "data": {
      "text/plain": [
       "<span class=\"more\">Set menu option is not now???????</span>"
      ]
     },
     "execution_count": 23,
     "metadata": {},
     "output_type": "execute_result"
    }
   ],
   "source": [
    "results[0]"
   ]
  },
  {
   "cell_type": "code",
   "execution_count": 24,
   "id": "52c47688",
   "metadata": {
    "scrolled": true
   },
   "outputs": [
    {
     "data": {
      "text/plain": [
       "'Set menu option is not now???????'"
      ]
     },
     "execution_count": 24,
     "metadata": {},
     "output_type": "execute_result"
    }
   ],
   "source": [
    "results[0].text"
   ]
  },
  {
   "cell_type": "code",
   "execution_count": 25,
   "id": "3f507658",
   "metadata": {
    "scrolled": true
   },
   "outputs": [
    {
     "data": {
      "text/plain": [
       "['Set menu option is not now???????',\n",
       " 'food was very tasty, ambience was excellent. I really enjoyed it',\n",
       " 'food quality detoriated to a large extent.',\n",
       " 'As per dineout deal, 15% discount was not given though????????. \\nBut as usual enjoyed the meal????',\n",
       " 'Crab dishes could have been better- few were bitter',\n",
       " 'Patjatic food options and quality quantity',\n",
       " 'food was delicious. portions were good too.',\n",
       " 'The food taste is ok ok.  The wow factor has gone out from the items.',\n",
       " 'one of the best places in Pune to have a dinner with Family.',\n",
       " 'the best dishes to try here are Schezwan baby corn, crispy corn chilli pepper, chilli garlic noodles and hot garlic panfried noodles.Also their sizzling brownie is really great .very good service.',\n",
       " \"my favorite ice-cream wasn't available...rest was good\",\n",
       " 'excellent food and service',\n",
       " 'excellent food & Service.',\n",
       " 'great customer service with tasty food. unbeatable!!!',\n",
       " 'Great value for money with 50% off on food.  Jumbo Prawns could’ve been better, was too hard and chewy in the stir fry preparation. The lobster dish and the dimsum were good.',\n",
       " 'one of the best always and forever ',\n",
       " 'As always',\n",
       " 'there was no buffet, terrible service, waste of money and time.',\n",
       " 'good food n staff',\n",
       " 'Good',\n",
       " 'Loved it',\n",
       " 'food was ok , sufficient, variety also there \\n\\n\\ngood food, good service, enough for one person in a fixed menue',\n",
       " 'good food\\n',\n",
       " 'I had a great time there... . Service provided by the staff was amazing..  Njoyd alot',\n",
       " 'veg was good. chicken preparation in main dish was high on specific smell ',\n",
       " 'Food: Awesome. Special mention for the dumplings and crab meat soup. Lunch and dinner buffets are also good. But the problem with dinner buffet is they serve all the starters at once on the table and might get cold by the time you taste them all. Service: No complaints. No delays, no ignorance. They will keep on refilling your tea cup the moment you empty one. Ambience: Comfortable. Well-spaced tables. Well lit area. You can easily spend couple of hours enjoying your dinner. Value for Money: Definitely.',\n",
       " 'Awesome place for the chineese food...i just want to go again and again..!!!!',\n",
       " 'Mainland China can never be wrong in serving authentic Chinese cuisine. This famed chain of restaurant is providing my regular dose of Chinese food. Crab Pepper Garlic, Lobster Dumpling and Tsing Hoi Chicken does not have any comparison with anything else. Mainland China has capture the taste of China and has been successfully serving for you.',\n",
       " 'This is an amazing place to have Some great Chinese food. Crackling Spinach and Corn Chilli Pepper are very tasty. Non-vegetarians can have either Tsing Hoi Chicken or Crab Pepper Garlic. The service is quite good and the ambiance is also nice. Prices are not very high but you will love to have such nice dishes at this place.']"
      ]
     },
     "execution_count": 25,
     "metadata": {},
     "output_type": "execute_result"
    }
   ],
   "source": [
    "reviews"
   ]
  },
  {
   "cell_type": "code",
   "execution_count": 26,
   "id": "8756dba3",
   "metadata": {},
   "outputs": [
    {
     "data": {
      "text/plain": [
       "'Set menu option is not now???????'"
      ]
     },
     "execution_count": 26,
     "metadata": {},
     "output_type": "execute_result"
    }
   ],
   "source": [
    "reviews[0]"
   ]
  },
  {
   "attachments": {},
   "cell_type": "markdown",
   "id": "8e0af997",
   "metadata": {},
   "source": [
    "### 5. Load Reviews into Dataframe"
   ]
  },
  {
   "cell_type": "code",
   "execution_count": 27,
   "id": "05c24ef2",
   "metadata": {},
   "outputs": [],
   "source": [
    "import pandas as pd\n",
    "import numpy as np"
   ]
  },
  {
   "cell_type": "code",
   "execution_count": 28,
   "id": "182a4038",
   "metadata": {},
   "outputs": [],
   "source": [
    "df = pd.DataFrame(np.array(reviews),columns=['review'])"
   ]
  },
  {
   "cell_type": "code",
   "execution_count": 29,
   "id": "8c72395a",
   "metadata": {},
   "outputs": [
    {
     "data": {
      "text/html": [
       "<div>\n",
       "<style scoped>\n",
       "    .dataframe tbody tr th:only-of-type {\n",
       "        vertical-align: middle;\n",
       "    }\n",
       "\n",
       "    .dataframe tbody tr th {\n",
       "        vertical-align: top;\n",
       "    }\n",
       "\n",
       "    .dataframe thead th {\n",
       "        text-align: right;\n",
       "    }\n",
       "</style>\n",
       "<table border=\"1\" class=\"dataframe\">\n",
       "  <thead>\n",
       "    <tr style=\"text-align: right;\">\n",
       "      <th></th>\n",
       "      <th>review</th>\n",
       "    </tr>\n",
       "  </thead>\n",
       "  <tbody>\n",
       "    <tr>\n",
       "      <th>0</th>\n",
       "      <td>Set menu option is not now???????</td>\n",
       "    </tr>\n",
       "    <tr>\n",
       "      <th>1</th>\n",
       "      <td>food was very tasty, ambience was excellent. I...</td>\n",
       "    </tr>\n",
       "    <tr>\n",
       "      <th>2</th>\n",
       "      <td>food quality detoriated to a large extent.</td>\n",
       "    </tr>\n",
       "    <tr>\n",
       "      <th>3</th>\n",
       "      <td>As per dineout deal, 15% discount was not give...</td>\n",
       "    </tr>\n",
       "    <tr>\n",
       "      <th>4</th>\n",
       "      <td>Crab dishes could have been better- few were b...</td>\n",
       "    </tr>\n",
       "    <tr>\n",
       "      <th>5</th>\n",
       "      <td>Patjatic food options and quality quantity</td>\n",
       "    </tr>\n",
       "    <tr>\n",
       "      <th>6</th>\n",
       "      <td>food was delicious. portions were good too.</td>\n",
       "    </tr>\n",
       "    <tr>\n",
       "      <th>7</th>\n",
       "      <td>The food taste is ok ok.  The wow factor has g...</td>\n",
       "    </tr>\n",
       "    <tr>\n",
       "      <th>8</th>\n",
       "      <td>one of the best places in Pune to have a dinne...</td>\n",
       "    </tr>\n",
       "    <tr>\n",
       "      <th>9</th>\n",
       "      <td>the best dishes to try here are Schezwan baby ...</td>\n",
       "    </tr>\n",
       "    <tr>\n",
       "      <th>10</th>\n",
       "      <td>my favorite ice-cream wasn't available...rest ...</td>\n",
       "    </tr>\n",
       "    <tr>\n",
       "      <th>11</th>\n",
       "      <td>excellent food and service</td>\n",
       "    </tr>\n",
       "    <tr>\n",
       "      <th>12</th>\n",
       "      <td>excellent food &amp; Service.</td>\n",
       "    </tr>\n",
       "    <tr>\n",
       "      <th>13</th>\n",
       "      <td>great customer service with tasty food. unbeat...</td>\n",
       "    </tr>\n",
       "    <tr>\n",
       "      <th>14</th>\n",
       "      <td>Great value for money with 50% off on food.  J...</td>\n",
       "    </tr>\n",
       "    <tr>\n",
       "      <th>15</th>\n",
       "      <td>one of the best always and forever</td>\n",
       "    </tr>\n",
       "    <tr>\n",
       "      <th>16</th>\n",
       "      <td>As always</td>\n",
       "    </tr>\n",
       "    <tr>\n",
       "      <th>17</th>\n",
       "      <td>there was no buffet, terrible service, waste o...</td>\n",
       "    </tr>\n",
       "    <tr>\n",
       "      <th>18</th>\n",
       "      <td>good food n staff</td>\n",
       "    </tr>\n",
       "    <tr>\n",
       "      <th>19</th>\n",
       "      <td>Good</td>\n",
       "    </tr>\n",
       "    <tr>\n",
       "      <th>20</th>\n",
       "      <td>Loved it</td>\n",
       "    </tr>\n",
       "    <tr>\n",
       "      <th>21</th>\n",
       "      <td>food was ok , sufficient, variety also there \\...</td>\n",
       "    </tr>\n",
       "    <tr>\n",
       "      <th>22</th>\n",
       "      <td>good food\\n</td>\n",
       "    </tr>\n",
       "    <tr>\n",
       "      <th>23</th>\n",
       "      <td>I had a great time there... . Service provided...</td>\n",
       "    </tr>\n",
       "    <tr>\n",
       "      <th>24</th>\n",
       "      <td>veg was good. chicken preparation in main dish...</td>\n",
       "    </tr>\n",
       "    <tr>\n",
       "      <th>25</th>\n",
       "      <td>Food: Awesome. Special mention for the dumplin...</td>\n",
       "    </tr>\n",
       "    <tr>\n",
       "      <th>26</th>\n",
       "      <td>Awesome place for the chineese food...i just w...</td>\n",
       "    </tr>\n",
       "    <tr>\n",
       "      <th>27</th>\n",
       "      <td>Mainland China can never be wrong in serving a...</td>\n",
       "    </tr>\n",
       "    <tr>\n",
       "      <th>28</th>\n",
       "      <td>This is an amazing place to have Some great Ch...</td>\n",
       "    </tr>\n",
       "  </tbody>\n",
       "</table>\n",
       "</div>"
      ],
      "text/plain": [
       "                                               review\n",
       "0                   Set menu option is not now???????\n",
       "1   food was very tasty, ambience was excellent. I...\n",
       "2          food quality detoriated to a large extent.\n",
       "3   As per dineout deal, 15% discount was not give...\n",
       "4   Crab dishes could have been better- few were b...\n",
       "5          Patjatic food options and quality quantity\n",
       "6         food was delicious. portions were good too.\n",
       "7   The food taste is ok ok.  The wow factor has g...\n",
       "8   one of the best places in Pune to have a dinne...\n",
       "9   the best dishes to try here are Schezwan baby ...\n",
       "10  my favorite ice-cream wasn't available...rest ...\n",
       "11                         excellent food and service\n",
       "12                          excellent food & Service.\n",
       "13  great customer service with tasty food. unbeat...\n",
       "14  Great value for money with 50% off on food.  J...\n",
       "15                one of the best always and forever \n",
       "16                                          As always\n",
       "17  there was no buffet, terrible service, waste o...\n",
       "18                                  good food n staff\n",
       "19                                               Good\n",
       "20                                           Loved it\n",
       "21  food was ok , sufficient, variety also there \\...\n",
       "22                                        good food\\n\n",
       "23  I had a great time there... . Service provided...\n",
       "24  veg was good. chicken preparation in main dish...\n",
       "25  Food: Awesome. Special mention for the dumplin...\n",
       "26  Awesome place for the chineese food...i just w...\n",
       "27  Mainland China can never be wrong in serving a...\n",
       "28  This is an amazing place to have Some great Ch..."
      ]
     },
     "execution_count": 29,
     "metadata": {},
     "output_type": "execute_result"
    }
   ],
   "source": [
    "df"
   ]
  },
  {
   "cell_type": "code",
   "execution_count": 30,
   "id": "20ac625f",
   "metadata": {},
   "outputs": [
    {
     "data": {
      "text/plain": [
       "'Set menu option is not now???????'"
      ]
     },
     "execution_count": 30,
     "metadata": {},
     "output_type": "execute_result"
    }
   ],
   "source": [
    "df['review'].iloc[0]"
   ]
  },
  {
   "cell_type": "code",
   "execution_count": 31,
   "id": "9088f9fa",
   "metadata": {},
   "outputs": [],
   "source": [
    "def sentiment_score(review):\n",
    "    tokens = tokenizer.encode(review, return_tensors='pt')\n",
    "    result = model(tokens)\n",
    "    return int(torch.argmax(result.logits))+1    "
   ]
  },
  {
   "cell_type": "code",
   "execution_count": 32,
   "id": "6f07f4b2",
   "metadata": {},
   "outputs": [
    {
     "name": "stdout",
     "output_type": "stream",
     "text": [
      "Set menu option is not now???????\n"
     ]
    },
    {
     "data": {
      "text/plain": [
       "1"
      ]
     },
     "execution_count": 32,
     "metadata": {},
     "output_type": "execute_result"
    }
   ],
   "source": [
    "print(df['review'].iloc[0])\n",
    "sentiment_score(df['review'].iloc[0])"
   ]
  },
  {
   "cell_type": "code",
   "execution_count": 33,
   "id": "43e6ae43",
   "metadata": {},
   "outputs": [
    {
     "name": "stdout",
     "output_type": "stream",
     "text": [
      "As per dineout deal, 15% discount was not given though????????. \n",
      "But as usual enjoyed the meal????\n"
     ]
    },
    {
     "data": {
      "text/plain": [
       "3"
      ]
     },
     "execution_count": 33,
     "metadata": {},
     "output_type": "execute_result"
    }
   ],
   "source": [
    "print(df['review'].iloc[3])\n",
    "sentiment_score(df['review'].iloc[3])"
   ]
  },
  {
   "cell_type": "code",
   "execution_count": 34,
   "id": "45c0f9ff",
   "metadata": {},
   "outputs": [],
   "source": [
    "df['sentiment'] = df['review'].apply(lambda x: sentiment_score(x)) # limitation of tokens - x[:512]"
   ]
  },
  {
   "cell_type": "code",
   "execution_count": 35,
   "id": "b802acc0",
   "metadata": {},
   "outputs": [
    {
     "data": {
      "text/html": [
       "<div>\n",
       "<style scoped>\n",
       "    .dataframe tbody tr th:only-of-type {\n",
       "        vertical-align: middle;\n",
       "    }\n",
       "\n",
       "    .dataframe tbody tr th {\n",
       "        vertical-align: top;\n",
       "    }\n",
       "\n",
       "    .dataframe thead th {\n",
       "        text-align: right;\n",
       "    }\n",
       "</style>\n",
       "<table border=\"1\" class=\"dataframe\">\n",
       "  <thead>\n",
       "    <tr style=\"text-align: right;\">\n",
       "      <th></th>\n",
       "      <th>review</th>\n",
       "      <th>sentiment</th>\n",
       "    </tr>\n",
       "  </thead>\n",
       "  <tbody>\n",
       "    <tr>\n",
       "      <th>0</th>\n",
       "      <td>Set menu option is not now???????</td>\n",
       "      <td>1</td>\n",
       "    </tr>\n",
       "    <tr>\n",
       "      <th>1</th>\n",
       "      <td>food was very tasty, ambience was excellent. I really enjoyed it</td>\n",
       "      <td>5</td>\n",
       "    </tr>\n",
       "    <tr>\n",
       "      <th>2</th>\n",
       "      <td>food quality detoriated to a large extent.</td>\n",
       "      <td>2</td>\n",
       "    </tr>\n",
       "    <tr>\n",
       "      <th>3</th>\n",
       "      <td>As per dineout deal, 15% discount was not given though????????. \\nBut as usual enjoyed the meal????</td>\n",
       "      <td>3</td>\n",
       "    </tr>\n",
       "    <tr>\n",
       "      <th>4</th>\n",
       "      <td>Crab dishes could have been better- few were bitter</td>\n",
       "      <td>3</td>\n",
       "    </tr>\n",
       "    <tr>\n",
       "      <th>5</th>\n",
       "      <td>Patjatic food options and quality quantity</td>\n",
       "      <td>5</td>\n",
       "    </tr>\n",
       "    <tr>\n",
       "      <th>6</th>\n",
       "      <td>food was delicious. portions were good too.</td>\n",
       "      <td>4</td>\n",
       "    </tr>\n",
       "    <tr>\n",
       "      <th>7</th>\n",
       "      <td>The food taste is ok ok.  The wow factor has gone out from the items.</td>\n",
       "      <td>3</td>\n",
       "    </tr>\n",
       "    <tr>\n",
       "      <th>8</th>\n",
       "      <td>one of the best places in Pune to have a dinner with Family.</td>\n",
       "      <td>5</td>\n",
       "    </tr>\n",
       "    <tr>\n",
       "      <th>9</th>\n",
       "      <td>the best dishes to try here are Schezwan baby corn, crispy corn chilli pepper, chilli garlic noodles and hot garlic panfried noodles.Also their sizzling brownie is really great .very good service.</td>\n",
       "      <td>5</td>\n",
       "    </tr>\n",
       "    <tr>\n",
       "      <th>10</th>\n",
       "      <td>my favorite ice-cream wasn't available...rest was good</td>\n",
       "      <td>4</td>\n",
       "    </tr>\n",
       "    <tr>\n",
       "      <th>11</th>\n",
       "      <td>excellent food and service</td>\n",
       "      <td>5</td>\n",
       "    </tr>\n",
       "    <tr>\n",
       "      <th>12</th>\n",
       "      <td>excellent food &amp; Service.</td>\n",
       "      <td>5</td>\n",
       "    </tr>\n",
       "    <tr>\n",
       "      <th>13</th>\n",
       "      <td>great customer service with tasty food. unbeatable!!!</td>\n",
       "      <td>5</td>\n",
       "    </tr>\n",
       "    <tr>\n",
       "      <th>14</th>\n",
       "      <td>Great value for money with 50% off on food.  Jumbo Prawns could’ve been better, was too hard and chewy in the stir fry preparation. The lobster dish and the dimsum were good.</td>\n",
       "      <td>4</td>\n",
       "    </tr>\n",
       "    <tr>\n",
       "      <th>15</th>\n",
       "      <td>one of the best always and forever</td>\n",
       "      <td>5</td>\n",
       "    </tr>\n",
       "    <tr>\n",
       "      <th>16</th>\n",
       "      <td>As always</td>\n",
       "      <td>5</td>\n",
       "    </tr>\n",
       "    <tr>\n",
       "      <th>17</th>\n",
       "      <td>there was no buffet, terrible service, waste of money and time.</td>\n",
       "      <td>1</td>\n",
       "    </tr>\n",
       "    <tr>\n",
       "      <th>18</th>\n",
       "      <td>good food n staff</td>\n",
       "      <td>4</td>\n",
       "    </tr>\n",
       "    <tr>\n",
       "      <th>19</th>\n",
       "      <td>Good</td>\n",
       "      <td>4</td>\n",
       "    </tr>\n",
       "    <tr>\n",
       "      <th>20</th>\n",
       "      <td>Loved it</td>\n",
       "      <td>5</td>\n",
       "    </tr>\n",
       "    <tr>\n",
       "      <th>21</th>\n",
       "      <td>food was ok , sufficient, variety also there \\n\\n\\ngood food, good service, enough for one person in a fixed menue</td>\n",
       "      <td>3</td>\n",
       "    </tr>\n",
       "    <tr>\n",
       "      <th>22</th>\n",
       "      <td>good food\\n</td>\n",
       "      <td>4</td>\n",
       "    </tr>\n",
       "    <tr>\n",
       "      <th>23</th>\n",
       "      <td>I had a great time there... . Service provided by the staff was amazing..  Njoyd alot</td>\n",
       "      <td>5</td>\n",
       "    </tr>\n",
       "    <tr>\n",
       "      <th>24</th>\n",
       "      <td>veg was good. chicken preparation in main dish was high on specific smell</td>\n",
       "      <td>4</td>\n",
       "    </tr>\n",
       "    <tr>\n",
       "      <th>25</th>\n",
       "      <td>Food: Awesome. Special mention for the dumplings and crab meat soup. Lunch and dinner buffets are also good. But the problem with dinner buffet is they serve all the starters at once on the table ...</td>\n",
       "      <td>4</td>\n",
       "    </tr>\n",
       "    <tr>\n",
       "      <th>26</th>\n",
       "      <td>Awesome place for the chineese food...i just want to go again and again..!!!!</td>\n",
       "      <td>5</td>\n",
       "    </tr>\n",
       "    <tr>\n",
       "      <th>27</th>\n",
       "      <td>Mainland China can never be wrong in serving authentic Chinese cuisine. This famed chain of restaurant is providing my regular dose of Chinese food. Crab Pepper Garlic, Lobster Dumpling and Tsing ...</td>\n",
       "      <td>5</td>\n",
       "    </tr>\n",
       "    <tr>\n",
       "      <th>28</th>\n",
       "      <td>This is an amazing place to have Some great Chinese food. Crackling Spinach and Corn Chilli Pepper are very tasty. Non-vegetarians can have either Tsing Hoi Chicken or Crab Pepper Garlic. The serv...</td>\n",
       "      <td>5</td>\n",
       "    </tr>\n",
       "  </tbody>\n",
       "</table>\n",
       "</div>"
      ],
      "text/plain": [
       "                                                                                                                                                                                                     review  \\\n",
       "0                                                                                                                                                                         Set menu option is not now???????   \n",
       "1                                                                                                                                          food was very tasty, ambience was excellent. I really enjoyed it   \n",
       "2                                                                                                                                                                food quality detoriated to a large extent.   \n",
       "3                                                                                                       As per dineout deal, 15% discount was not given though????????. \\nBut as usual enjoyed the meal????   \n",
       "4                                                                                                                                                       Crab dishes could have been better- few were bitter   \n",
       "5                                                                                                                                                                Patjatic food options and quality quantity   \n",
       "6                                                                                                                                                               food was delicious. portions were good too.   \n",
       "7                                                                                                                                     The food taste is ok ok.  The wow factor has gone out from the items.   \n",
       "8                                                                                                                                              one of the best places in Pune to have a dinner with Family.   \n",
       "9      the best dishes to try here are Schezwan baby corn, crispy corn chilli pepper, chilli garlic noodles and hot garlic panfried noodles.Also their sizzling brownie is really great .very good service.   \n",
       "10                                                                                                                                                   my favorite ice-cream wasn't available...rest was good   \n",
       "11                                                                                                                                                                               excellent food and service   \n",
       "12                                                                                                                                                                                excellent food & Service.   \n",
       "13                                                                                                                                                    great customer service with tasty food. unbeatable!!!   \n",
       "14                           Great value for money with 50% off on food.  Jumbo Prawns could’ve been better, was too hard and chewy in the stir fry preparation. The lobster dish and the dimsum were good.   \n",
       "15                                                                                                                                                                      one of the best always and forever    \n",
       "16                                                                                                                                                                                                As always   \n",
       "17                                                                                                                                          there was no buffet, terrible service, waste of money and time.   \n",
       "18                                                                                                                                                                                        good food n staff   \n",
       "19                                                                                                                                                                                                     Good   \n",
       "20                                                                                                                                                                                                 Loved it   \n",
       "21                                                                                       food was ok , sufficient, variety also there \\n\\n\\ngood food, good service, enough for one person in a fixed menue   \n",
       "22                                                                                                                                                                                              good food\\n   \n",
       "23                                                                                                                    I had a great time there... . Service provided by the staff was amazing..  Njoyd alot   \n",
       "24                                                                                                                               veg was good. chicken preparation in main dish was high on specific smell    \n",
       "25  Food: Awesome. Special mention for the dumplings and crab meat soup. Lunch and dinner buffets are also good. But the problem with dinner buffet is they serve all the starters at once on the table ...   \n",
       "26                                                                                                                            Awesome place for the chineese food...i just want to go again and again..!!!!   \n",
       "27  Mainland China can never be wrong in serving authentic Chinese cuisine. This famed chain of restaurant is providing my regular dose of Chinese food. Crab Pepper Garlic, Lobster Dumpling and Tsing ...   \n",
       "28  This is an amazing place to have Some great Chinese food. Crackling Spinach and Corn Chilli Pepper are very tasty. Non-vegetarians can have either Tsing Hoi Chicken or Crab Pepper Garlic. The serv...   \n",
       "\n",
       "    sentiment  \n",
       "0           1  \n",
       "1           5  \n",
       "2           2  \n",
       "3           3  \n",
       "4           3  \n",
       "5           5  \n",
       "6           4  \n",
       "7           3  \n",
       "8           5  \n",
       "9           5  \n",
       "10          4  \n",
       "11          5  \n",
       "12          5  \n",
       "13          5  \n",
       "14          4  \n",
       "15          5  \n",
       "16          5  \n",
       "17          1  \n",
       "18          4  \n",
       "19          4  \n",
       "20          5  \n",
       "21          3  \n",
       "22          4  \n",
       "23          5  \n",
       "24          4  \n",
       "25          4  \n",
       "26          5  \n",
       "27          5  \n",
       "28          5  "
      ]
     },
     "execution_count": 35,
     "metadata": {},
     "output_type": "execute_result"
    }
   ],
   "source": [
    "pd.options.display.max_colwidth = 200\n",
    "df"
   ]
  }
 ],
 "metadata": {
  "kernelspec": {
   "display_name": "Python 3",
   "language": "python",
   "name": "python3"
  },
  "language_info": {
   "codemirror_mode": {
    "name": "ipython",
    "version": 3
   },
   "file_extension": ".py",
   "mimetype": "text/x-python",
   "name": "python",
   "nbconvert_exporter": "python",
   "pygments_lexer": "ipython3",
   "version": "3.7.0"
  }
 },
 "nbformat": 4,
 "nbformat_minor": 5
}
